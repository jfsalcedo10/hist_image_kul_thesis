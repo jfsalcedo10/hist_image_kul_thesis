{
  "nbformat": 4,
  "nbformat_minor": 0,
  "metadata": {
    "colab": {
      "provenance": []
    },
    "kernelspec": {
      "name": "python3",
      "display_name": "Python 3"
    },
    "language_info": {
      "name": "python"
    }
  },
  "cells": [
    {
      "cell_type": "markdown",
      "source": [
        "# Setup"
      ],
      "metadata": {
        "id": "CKUkQMNwM22i"
      }
    },
    {
      "cell_type": "code",
      "source": [
        "# OpenSlide\n",
        "!apt update && apt install -y openslide-tools\n",
        "!pip install openslide-python"
      ],
      "metadata": {
        "id": "JThByuv8M2mB"
      },
      "execution_count": null,
      "outputs": []
    },
    {
      "cell_type": "code",
      "source": [
        "# ASAP\n",
        "!wget https://github.com/computationalpathologygroup/ASAP/releases/download/ASAP-2.1/ASAP-2.1-py38-Ubuntu2004.deb\n",
        "!apt install libdcmtk14\n",
        "!apt install libopenslide0\n",
        "!ls\n",
        "!dpkg -i ASAP-2.1-py38-Ubuntu2004.deb\n",
        "\n",
        "# add ASAP to pythonpath\n",
        "import sys\n",
        "asap_path = \"/opt/ASAP/bin\"\n",
        "if asap_path not in sys.path:\n",
        "    sys.path.append(asap_path);\n",
        "print(sys.path);"
      ],
      "metadata": {
        "id": "KTSnrnKNM7-p"
      },
      "execution_count": null,
      "outputs": []
    },
    {
      "cell_type": "markdown",
      "source": [
        "# Mask Generation"
      ],
      "metadata": {
        "id": "l2ir5kqhMzpK"
      }
    },
    {
      "cell_type": "code",
      "execution_count": null,
      "metadata": {
        "id": "Lx0n2nq2MuKw"
      },
      "outputs": [],
      "source": [
        "import openslide\n",
        "import multiresolutionimageinterface as mir\n",
        "import os\n",
        "\n",
        "TUMOR_PATH = '/content/drive/MyDrive/Thesis/Tumor/'\n",
        "TUMOR_ANN_PATH = '/content/drive/MyDrive/Thesis/Tumor_Annotations/'\n",
        "TUMOR_MASK_PATH = '/content/drive/MyDrive/Thesis/Tumor_Masks/'\n",
        "\n",
        "def ann_to_mask(wsi):\n",
        "  mr_image = reader.open(TUMOR_PATH + wsi)\n",
        "  ann_path = wsi.split('.', 1)[0] + '.xml'\n",
        "\n",
        "  # load annotation\n",
        "  xml_repository.setSource(TUMOR_ANN_PATH + ann_path)\n",
        "  xml_repository.load()\n",
        "\n",
        "  # save mask file (warning: takes long)\n",
        "  mask_path = wsi.replace('tumor', 'mask')\n",
        "  annotation_mask.convert(annotation_list, TUMOR_MASK_PATH + mask_path, \n",
        "                          mr_image.getDimensions(), mr_image.getSpacing(), \n",
        "                          label_map, conversion_order)\n",
        "  \n",
        "if __name__ == '__main__':\n",
        "  reader = mir.MultiResolutionImageReader()\n",
        "\n",
        "  annotation_list = mir.AnnotationList()\n",
        "  xml_repository = mir.XmlRepository(annotation_list)\n",
        "  annotation_mask = mir.AnnotationToMask()\n",
        "\n",
        "  # adjust labels based on dataset (camelyon16 vs 17)\n",
        "  camelyon17_type_mask = False\n",
        "  label_map = {'metastases': 1, 'normal': 2} if camelyon17_type_mask else {'_0': 255, '_1': 255, '_2': 0}\n",
        "  conversion_order = ['metastases', 'normal'] if camelyon17_type_mask else  ['_0', '_1', '_2']\n",
        "\n",
        "  # get list of all tumor WSIs and convert to masks\n",
        "  tumor_wsis = os.listdir(TUMOR_PATH)\n",
        "  for wsi in tumor_wsis:\n",
        "    ann_to_mask(wsi)"
      ]
    }
  ]
}