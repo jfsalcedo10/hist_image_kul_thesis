{
  "nbformat": 4,
  "nbformat_minor": 0,
  "metadata": {
    "colab": {
      "provenance": []
    },
    "kernelspec": {
      "name": "python3",
      "display_name": "Python 3"
    },
    "language_info": {
      "name": "python"
    }
  },
  "cells": [
    {
      "cell_type": "markdown",
      "source": [
        "# Setup"
      ],
      "metadata": {
        "id": "CKUkQMNwM22i"
      }
    },
    {
      "cell_type": "code",
      "source": [
        "# OpenSlide\n",
        "!apt update && apt install -y openslide-tools\n",
        "!pip install openslide-python"
      ],
      "metadata": {
        "id": "JThByuv8M2mB"
      },
      "execution_count": null,
      "outputs": []
    },
    {
      "cell_type": "code",
      "source": [
        "# ASAP\n",
        "!wget https://github.com/computationalpathologygroup/ASAP/releases/download/ASAP-2.1/ASAP-2.1-py38-Ubuntu2004.deb\n",
        "!apt install libdcmtk14\n",
        "!apt install libopenslide0\n",
        "!ls\n",
        "!dpkg -i ASAP-2.1-py38-Ubuntu2004.deb\n",
        "\n",
        "# add ASAP to pythonpath\n",
        "import sys\n",
        "asap_path = \"/opt/ASAP/bin\"\n",
        "if asap_path not in sys.path:\n",
        "    sys.path.append(asap_path);\n",
        "print(sys.path);"
      ],
      "metadata": {
        "id": "KTSnrnKNM7-p"
      },
      "execution_count": null,
      "outputs": []
    },
    {
      "cell_type": "markdown",
      "source": [
        "# Patch Extraction"
      ],
      "metadata": {
        "id": "otsCLHOHN0Qt"
      }
    },
    {
      "cell_type": "code",
      "source": [
        "from PIL import Image\n",
        "from PIL import TiffImagePlugin\n",
        "import numpy as np\n",
        "import cv2\n",
        "import openslide\n",
        "import multiresolutionimageinterface as mir\n",
        "import os\n",
        "import random\n",
        "\n",
        "NORMAL_PATH = '/content/drive/MyDrive/Thesis/Normal/'\n",
        "TUMOR_PATH = '/content/drive/MyDrive/Thesis/Tumor/'\n",
        "TUMOR_ANN_PATH = '/content/drive/MyDrive/Thesis/Tumor_Annotations/'\n",
        "TUMOR_MASK_PATH = '/content/drive/MyDrive/Thesis/Tumor_Masks/'\n",
        "PATCH_POS_PATH = '/content/drive/MyDrive/Thesis/Patches_Positive/'\n",
        "PATCH_NEG_PATH = '/content/drive/MyDrive/Thesis/Patches_Negative/'\n",
        "\n",
        "MAG_FACTOR = 256          # magnification factor \n",
        "PATCHES_PER_BBOX = 20     # number of samples per bounding box\n",
        "ADAPTIVE_QUANT = 0        # adapt number of samples based on box size\n",
        "PATCH_SIZE = 256          # size of sampled patches\n",
        "THRESH = 0.2              # % of patch that should be tumor (for tumor patches only)\n",
        "\n",
        "tumor_wsis = os.listdir(TUMOR_PATH)\n",
        "normal_wsis = os.listdir(NORMAL_PATH)\n",
        "\n",
        "def read_wsi(wsi_path, mag_factor):\n",
        "  wsi_full_size = openslide.OpenSlide(wsi_path)\n",
        "  mag_options = wsi_full_size.level_downsamples\n",
        "  mag_level = mag_options.index(mag_factor)\n",
        "  wsi_scaled = np.array(wsi_full_size.read_region((0, 0), mag_level,\n",
        "                                        wsi_full_size.level_dimensions[mag_level]))\n",
        "  return wsi_full_size, wsi_scaled\n",
        "\n",
        "def get_tissue_contours(wsi_scaled):\n",
        "  hsv_img = cv2.cvtColor(wsi_scaled, cv2.COLOR_BGR2HSV)\n",
        "  lower_red = np.array([20, 20, 20])\n",
        "  upper_red = np.array([200, 200, 200])\n",
        "  tissue_mask = cv2.inRange(hsv_img, lower_red, upper_red)\n",
        "\n",
        "  close_kernel = np.ones((20, 20), dtype=np.uint8)\n",
        "  image_close = cv2.morphologyEx(np.array(tissue_mask), cv2.MORPH_CLOSE, \n",
        "                                 close_kernel)\n",
        "  open_kernel = np.ones((5, 5), dtype=np.uint8)\n",
        "  image_open = cv2.morphologyEx(np.array(image_close), cv2.MORPH_OPEN, \n",
        "                                open_kernel)\n",
        "  \n",
        "  tissue_contours, _ = cv2.findContours(image_open, cv2.RETR_EXTERNAL, \n",
        "                                 cv2.CHAIN_APPROX_SIMPLE)\n",
        "\n",
        "  return tissue_contours\n",
        "\n",
        "def get_tumor_contours(mask_img):\n",
        "  bw_mask = cv2.cvtColor(mask_img, cv2.COLOR_BGR2GRAY)\n",
        "  tumor_contours, _ = cv2.findContours(np.array(bw_mask), cv2.RETR_EXTERNAL, \n",
        "                                      cv2.CHAIN_APPROX_SIMPLE)\n",
        "  \n",
        "  return tumor_contours\n",
        "\n",
        "def get_bbox(contours):\n",
        "  bounding_boxes = [cv2.boundingRect(c) for c in contours]\n",
        "  bounding_boxes_big = [i for i in bounding_boxes if i[2] > 10 or i[3] > 10]\n",
        "  return bounding_boxes_big\n",
        "\n"
      ],
      "metadata": {
        "id": "3Dhibu7GN3Tw"
      },
      "execution_count": null,
      "outputs": []
    },
    {
      "cell_type": "markdown",
      "source": [
        "## Sample Tumor Patches"
      ],
      "metadata": {
        "id": "a8vzdKB2OkQY"
      }
    },
    {
      "cell_type": "code",
      "source": [
        "for tumor_wsi in tumor_wsis:\n",
        "  wsi_full_size, wsi_scaled = read_wsi(TUMOR_PATH + tumor_wsi, MAG_FACTOR)\n",
        "  mask_full_size, mask_scaled = read_wsi(TUMOR_MASK_PATH + tumor_wsi.replace('tumor', 'mask'), \n",
        "                      MAG_FACTOR)\n",
        "  tissue_contours = get_tissue_contours(wsi_scaled)\n",
        "  tumor_contours = get_tumor_contours(mask_scaled)\n",
        "\n",
        "  patch_index = 0\n",
        "\n",
        "  # get tumor patches\n",
        "  for bbox in get_bbox(tumor_contours):\n",
        "    x,y,w,h = bbox\n",
        "    patch_in_box = 0\n",
        "\n",
        "    while (patch_in_box < PATCHES_PER_BBOX):\n",
        "      rand_x = random.randint(x, x+w)\n",
        "      rand_y = random.randint(y, y+h)\n",
        "\n",
        "      real_x = rand_x * MAG_FACTOR\n",
        "      real_y = rand_y * MAG_FACTOR\n",
        "\n",
        "      # extract mask for selected patch\n",
        "      mask_patch = mask_full_size.read_region((real_x, real_y), 0, (PATCH_SIZE, PATCH_SIZE))\n",
        "      mask_patch_np = np.array(mask_patch)[:,:,0]\n",
        "\n",
        "      # check what proportion of patch is tumor\n",
        "      tumor_percent = (mask_patch_np.sum(axis=0).sum(axis=0)/255)/(PATCH_SIZE*PATCH_SIZE)\n",
        "      mask_patch.close()\n",
        "\n",
        "      # save patch only if threshold for tumor proportion is met\n",
        "      if (tumor_percent > THRESH):\n",
        "        wsi_patch = wsi_full_size.read_region((real_x, real_y), 0, (PATCH_SIZE, PATCH_SIZE))\n",
        "        wsi_patch.save(PATCH_POS_PATH + str(patch_index), 'PNG')\n",
        "        patch_index += 1\n",
        "        patch_in_box += 1\n",
        "        wsi_patch.close()"
      ],
      "metadata": {
        "id": "oGv5SYCFOnUS"
      },
      "execution_count": null,
      "outputs": []
    },
    {
      "cell_type": "markdown",
      "source": [
        "## Sample Non-Tumor Patches from Normal WSIs"
      ],
      "metadata": {
        "id": "j9sosakBOq4u"
      }
    }
  ]
}